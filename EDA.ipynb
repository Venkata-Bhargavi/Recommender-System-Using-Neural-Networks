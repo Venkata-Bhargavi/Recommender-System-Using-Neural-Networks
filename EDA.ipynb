{
 "cells": [
  {
   "cell_type": "markdown",
   "id": "1eea2d77-dd31-4fe7-bf21-2cdd14b4832b",
   "metadata": {},
   "source": [
    "# EXPLORATORY DATA ANALYSIS"
   ]
  },
  {
   "cell_type": "code",
   "execution_count": 1,
   "id": "9117806c-6768-4042-9570-fa54240bda27",
   "metadata": {},
   "outputs": [],
   "source": [
    "import pandas as pd\n",
    "import matplotlib.pyplot as plt"
   ]
  },
  {
   "cell_type": "code",
   "execution_count": 2,
   "id": "86aa3681-9640-4c0a-bd3f-e3933a2bff68",
   "metadata": {},
   "outputs": [],
   "source": [
    "full_df = pd.read_csv(\"entire_dataset.csv\")"
   ]
  },
  {
   "cell_type": "code",
   "execution_count": 3,
   "id": "de8126cf-f422-40d5-be43-03de2a4bc6ed",
   "metadata": {},
   "outputs": [
    {
     "data": {
      "text/html": [
       "<div>\n",
       "<style scoped>\n",
       "    .dataframe tbody tr th:only-of-type {\n",
       "        vertical-align: middle;\n",
       "    }\n",
       "\n",
       "    .dataframe tbody tr th {\n",
       "        vertical-align: top;\n",
       "    }\n",
       "\n",
       "    .dataframe thead th {\n",
       "        text-align: right;\n",
       "    }\n",
       "</style>\n",
       "<table border=\"1\" class=\"dataframe\">\n",
       "  <thead>\n",
       "    <tr style=\"text-align: right;\">\n",
       "      <th></th>\n",
       "      <th>userId</th>\n",
       "      <th>movieId</th>\n",
       "      <th>rating</th>\n",
       "      <th>title</th>\n",
       "      <th>genres</th>\n",
       "    </tr>\n",
       "  </thead>\n",
       "  <tbody>\n",
       "    <tr>\n",
       "      <th>0</th>\n",
       "      <td>1</td>\n",
       "      <td>1</td>\n",
       "      <td>4.0</td>\n",
       "      <td>Toy Story (1995)</td>\n",
       "      <td>Adventure|Animation|Children|Comedy|Fantasy</td>\n",
       "    </tr>\n",
       "    <tr>\n",
       "      <th>1</th>\n",
       "      <td>5</td>\n",
       "      <td>1</td>\n",
       "      <td>4.0</td>\n",
       "      <td>Toy Story (1995)</td>\n",
       "      <td>Adventure|Animation|Children|Comedy|Fantasy</td>\n",
       "    </tr>\n",
       "    <tr>\n",
       "      <th>2</th>\n",
       "      <td>7</td>\n",
       "      <td>1</td>\n",
       "      <td>4.5</td>\n",
       "      <td>Toy Story (1995)</td>\n",
       "      <td>Adventure|Animation|Children|Comedy|Fantasy</td>\n",
       "    </tr>\n",
       "    <tr>\n",
       "      <th>3</th>\n",
       "      <td>15</td>\n",
       "      <td>1</td>\n",
       "      <td>2.5</td>\n",
       "      <td>Toy Story (1995)</td>\n",
       "      <td>Adventure|Animation|Children|Comedy|Fantasy</td>\n",
       "    </tr>\n",
       "    <tr>\n",
       "      <th>4</th>\n",
       "      <td>17</td>\n",
       "      <td>1</td>\n",
       "      <td>4.5</td>\n",
       "      <td>Toy Story (1995)</td>\n",
       "      <td>Adventure|Animation|Children|Comedy|Fantasy</td>\n",
       "    </tr>\n",
       "  </tbody>\n",
       "</table>\n",
       "</div>"
      ],
      "text/plain": [
       "   userId  movieId  rating             title  \\\n",
       "0       1        1     4.0  Toy Story (1995)   \n",
       "1       5        1     4.0  Toy Story (1995)   \n",
       "2       7        1     4.5  Toy Story (1995)   \n",
       "3      15        1     2.5  Toy Story (1995)   \n",
       "4      17        1     4.5  Toy Story (1995)   \n",
       "\n",
       "                                        genres  \n",
       "0  Adventure|Animation|Children|Comedy|Fantasy  \n",
       "1  Adventure|Animation|Children|Comedy|Fantasy  \n",
       "2  Adventure|Animation|Children|Comedy|Fantasy  \n",
       "3  Adventure|Animation|Children|Comedy|Fantasy  \n",
       "4  Adventure|Animation|Children|Comedy|Fantasy  "
      ]
     },
     "execution_count": 3,
     "metadata": {},
     "output_type": "execute_result"
    }
   ],
   "source": [
    "full_df.head()"
   ]
  },
  {
   "cell_type": "code",
   "execution_count": 4,
   "id": "8e9611a9-0775-41a3-b203-9954a1d73090",
   "metadata": {},
   "outputs": [
    {
     "data": {
      "text/html": [
       "<div>\n",
       "<style scoped>\n",
       "    .dataframe tbody tr th:only-of-type {\n",
       "        vertical-align: middle;\n",
       "    }\n",
       "\n",
       "    .dataframe tbody tr th {\n",
       "        vertical-align: top;\n",
       "    }\n",
       "\n",
       "    .dataframe thead th {\n",
       "        text-align: right;\n",
       "    }\n",
       "</style>\n",
       "<table border=\"1\" class=\"dataframe\">\n",
       "  <thead>\n",
       "    <tr style=\"text-align: right;\">\n",
       "      <th></th>\n",
       "      <th>userId</th>\n",
       "      <th>movieId</th>\n",
       "      <th>rating</th>\n",
       "      <th>title</th>\n",
       "      <th>genres</th>\n",
       "    </tr>\n",
       "  </thead>\n",
       "  <tbody>\n",
       "    <tr>\n",
       "      <th>100831</th>\n",
       "      <td>610</td>\n",
       "      <td>160341</td>\n",
       "      <td>2.5</td>\n",
       "      <td>Bloodmoon (1997)</td>\n",
       "      <td>Action|Thriller</td>\n",
       "    </tr>\n",
       "    <tr>\n",
       "      <th>100832</th>\n",
       "      <td>610</td>\n",
       "      <td>160527</td>\n",
       "      <td>4.5</td>\n",
       "      <td>Sympathy for the Underdog (1971)</td>\n",
       "      <td>Action|Crime|Drama</td>\n",
       "    </tr>\n",
       "    <tr>\n",
       "      <th>100833</th>\n",
       "      <td>610</td>\n",
       "      <td>160836</td>\n",
       "      <td>3.0</td>\n",
       "      <td>Hazard (2005)</td>\n",
       "      <td>Action|Drama|Thriller</td>\n",
       "    </tr>\n",
       "    <tr>\n",
       "      <th>100834</th>\n",
       "      <td>610</td>\n",
       "      <td>163937</td>\n",
       "      <td>3.5</td>\n",
       "      <td>Blair Witch (2016)</td>\n",
       "      <td>Horror|Thriller</td>\n",
       "    </tr>\n",
       "    <tr>\n",
       "      <th>100835</th>\n",
       "      <td>610</td>\n",
       "      <td>163981</td>\n",
       "      <td>3.5</td>\n",
       "      <td>31 (2016)</td>\n",
       "      <td>Horror</td>\n",
       "    </tr>\n",
       "  </tbody>\n",
       "</table>\n",
       "</div>"
      ],
      "text/plain": [
       "        userId  movieId  rating                             title  \\\n",
       "100831     610   160341     2.5                  Bloodmoon (1997)   \n",
       "100832     610   160527     4.5  Sympathy for the Underdog (1971)   \n",
       "100833     610   160836     3.0                     Hazard (2005)   \n",
       "100834     610   163937     3.5                Blair Witch (2016)   \n",
       "100835     610   163981     3.5                         31 (2016)   \n",
       "\n",
       "                       genres  \n",
       "100831        Action|Thriller  \n",
       "100832     Action|Crime|Drama  \n",
       "100833  Action|Drama|Thriller  \n",
       "100834        Horror|Thriller  \n",
       "100835                 Horror  "
      ]
     },
     "execution_count": 4,
     "metadata": {},
     "output_type": "execute_result"
    }
   ],
   "source": [
    "full_df.tail()"
   ]
  },
  {
   "cell_type": "markdown",
   "id": "99c73519-85a5-4b29-b356-27bb11ae6c73",
   "metadata": {},
   "source": [
    "## Basic Statistics"
   ]
  },
  {
   "cell_type": "code",
   "execution_count": 5,
   "id": "a4b511fe-dbc9-495c-b6e1-b765e54270ec",
   "metadata": {},
   "outputs": [
    {
     "name": "stdout",
     "output_type": "stream",
     "text": [
      "Summary Statistics of Ratings:\n",
      "count    100836.000000\n",
      "mean          3.501557\n",
      "std           1.042529\n",
      "min           0.500000\n",
      "25%           3.000000\n",
      "50%           3.500000\n",
      "75%           4.000000\n",
      "max           5.000000\n",
      "Name: rating, dtype: float64\n",
      "Number of Unique Users: 610\n",
      "Number of Unique Movies: 9724\n",
      "Number of Unique Genres: 951\n"
     ]
    }
   ],
   "source": [
    "# Summary statistics\n",
    "print(\"Summary Statistics of Ratings:\")\n",
    "print(full_df['rating'].describe())\n",
    "\n",
    "# Number of unique users, movies, and genres\n",
    "num_users = full_df['userId'].nunique()\n",
    "num_movies = full_df['movieId'].nunique()\n",
    "num_genres = full_df['genres'].nunique()\n",
    "print(\"Number of Unique Users:\", num_users)\n",
    "print(\"Number of Unique Movies:\", num_movies)\n",
    "print(\"Number of Unique Genres:\", num_genres)\n"
   ]
  },
  {
   "cell_type": "markdown",
   "id": "984230d2-ad3c-478b-bfb7-66e1a7107c1a",
   "metadata": {},
   "source": [
    "##"
   ]
  },
  {
   "cell_type": "markdown",
   "id": "910f6e1a-b386-43eb-b0ba-98c6f59d0e06",
   "metadata": {},
   "source": [
    "- Count: There are 100,836 ratings in the dataset.\n",
    "- Mean: The average rating given by users is approximately 3.50.\n",
    "- Standard Deviation (Std): The standard deviation of the ratings is approximately 1.04. This measures the dispersion or spread of the ratings around the mean. A lower  standard deviation indicates that the ratings tend to be closer to the mean, while a higher standard deviation indicates more variability in the ratings.\n",
    "- Minimum (Min): The lowest rating given in the dataset is 0.5.\n",
    "- 25th Percentile (25%): 25% of the ratings are below or equal to 3.0. This is the first quartile.\n",
    "- 50th Percentile (50%) or Median: Also known as the median, it represents the middle value of the dataset when arranged in ascending order. In this case, the median rating is 3.5, indicating that half of the ratings are below 3.5 and half are above.\n",
    "- 75th Percentile (75%): 75% of the ratings are below or equal to 4.0. This is the third quartile.\n",
    "- Maximum (Max): The highest rating given in the dataset is 5.0."
   ]
  },
  {
   "cell_type": "markdown",
   "id": "2dd39b02-9b1d-4a5c-986b-98fa19cb05dd",
   "metadata": {},
   "source": [
    "## Distrbutions of Ratings"
   ]
  },
  {
   "cell_type": "code",
   "execution_count": 6,
   "id": "8ed65de7-1389-4910-99dd-9e7c86cc7db9",
   "metadata": {},
   "outputs": [
    {
     "data": {
      "image/png": "[encoded data removed]",
      "text/plain": [
       "<Figure size 576x432 with 1 Axes>"
      ]
     },
     "metadata": {
      "needs_background": "light"
     },
     "output_type": "display_data"
    }
   ],
   "source": [
    "# Distribution of Ratings\n",
    "plt.figure(figsize=(8, 6))\n",
    "full_df['rating'].hist(bins=10, edgecolor='black')\n",
    "plt.title('Distribution of Ratings')\n",
    "plt.xlabel('Rating')\n",
    "plt.ylabel('Frequency')\n",
    "plt.show()"
   ]
  },
  {
   "cell_type": "markdown",
   "id": "b2ec5c81-d718-4d31-8ee0-d623a274f5c6",
   "metadata": {},
   "source": [
    "#### This distribution shows that highest number of movies are rated 4, followed by 3 star and 5 star"
   ]
  },
  {
   "cell_type": "markdown",
   "id": "bcddcf72-f9eb-46e9-b781-28efe6fb5c57",
   "metadata": {},
   "source": [
    "## Top Rated Movies"
   ]
  },
  {
   "cell_type": "code",
   "execution_count": 7,
   "id": "5343e7f0-2bcb-4b14-9871-edd279df4d14",
   "metadata": {},
   "outputs": [
    {
     "name": "stdout",
     "output_type": "stream",
     "text": [
      "Top Rated Movies:\n",
      "-----------------------------------\n",
      "title\n",
      "Gena the Crocodile (1969)                    5.0\n",
      "True Stories (1986)                          5.0\n",
      "Cosmic Scrat-tastrophe (2015)                5.0\n",
      "Love and Pigeons (1985)                      5.0\n",
      "Red Sorghum (Hong gao liang) (1987)          5.0\n",
      "Thin Line Between Love and Hate, A (1996)    5.0\n",
      "Lesson Faust (1994)                          5.0\n",
      "Eva (2011)                                   5.0\n",
      "Who Killed Chea Vichea? (2010)               5.0\n",
      "Siam Sunset (1999)                           5.0\n",
      "Name: rating, dtype: float64\n",
      "-------------------------------------\n"
     ]
    },
    {
     "data": {
      "image/png": "[encoded data removed]",
      "text/plain": [
       "<Figure size 720x432 with 1 Axes>"
      ]
     },
     "metadata": {
      "needs_background": "light"
     },
     "output_type": "display_data"
    }
   ],
   "source": [
    "# Top Rated Movies\n",
    "top_rated_movies = full_df.groupby('title')['rating'].mean().sort_values(ascending=False).head(10)\n",
    "print(\"Top Rated Movies:\")\n",
    "print(\"-----------------------------------\")\n",
    "print(top_rated_movies)\n",
    "print(\"-------------------------------------\")\n",
    "# Visualize Top Rated Movies\n",
    "plt.figure(figsize=(10, 6))\n",
    "top_rated_movies.plot(kind='bar', color='skyblue')\n",
    "plt.title('Top Rated Movies')\n",
    "plt.xlabel('Movie')\n",
    "plt.ylabel('Average Rating')\n",
    "plt.xticks(rotation=45, ha='right')\n",
    "plt.show()\n"
   ]
  },
  {
   "cell_type": "markdown",
   "id": "2e80d9bf-191d-4fa2-bbff-602f0b85d022",
   "metadata": {},
   "source": [
    "## Genres Analysis"
   ]
  },
  {
   "cell_type": "code",
   "execution_count": 8,
   "id": "18286383-3d65-4e0e-99eb-5ff3f674088f",
   "metadata": {},
   "outputs": [
    {
     "name": "stdout",
     "output_type": "stream",
     "text": [
      "Genre Distribution:\n",
      "Drama                 41928\n",
      "Comedy                39053\n",
      "Action                30635\n",
      "Thriller              26452\n",
      "Adventure             24161\n",
      "Romance               18124\n",
      "Sci-Fi                17243\n",
      "Crime                 16681\n",
      "Fantasy               11834\n",
      "Children               9208\n",
      "Mystery                7674\n",
      "Horror                 7291\n",
      "Animation              6988\n",
      "War                    4859\n",
      "IMAX                   4145\n",
      "Musical                4138\n",
      "Western                1930\n",
      "Documentary            1219\n",
      "Film-Noir               870\n",
      "(no genres listed)       47\n",
      "Name: genres, dtype: int64\n"
     ]
    },
    {
     "data": {
      "image/png": "[encoded data removed]",
      "text/plain": [
       "<Figure size 720x432 with 1 Axes>"
      ]
     },
     "metadata": {
      "needs_background": "light"
     },
     "output_type": "display_data"
    }
   ],
   "source": [
    "# Genre Analysis\n",
    "genre_count = full_df['genres'].str.split('|').explode().value_counts()\n",
    "print(\"Genre Distribution:\")\n",
    "print(genre_count)\n",
    "\n",
    "# Visualize Genre Distribution\n",
    "plt.figure(figsize=(10, 6))\n",
    "genre_count.plot(kind='bar', color='salmon')\n",
    "plt.title('Genre Distribution')\n",
    "plt.xlabel('Genre')\n",
    "plt.ylabel('Count')\n",
    "plt.xticks(rotation=45, ha='right')\n",
    "plt.show()\n"
   ]
  },
  {
   "cell_type": "markdown",
   "id": "baf6f545-55f1-4dd5-abb1-6ed5553836c0",
   "metadata": {},
   "source": [
    "## User Engagement"
   ]
  },
  {
   "cell_type": "code",
   "execution_count": 9,
   "id": "37d7fd9f-5d18-4a9f-b078-6c5b6ad554ae",
   "metadata": {},
   "outputs": [
    {
     "name": "stdout",
     "output_type": "stream",
     "text": [
      "User Engagement (Number of Ratings per User):\n",
      "userId\n",
      "414    2698\n",
      "599    2478\n",
      "474    2108\n",
      "448    1864\n",
      "274    1346\n",
      "610    1302\n",
      "68     1260\n",
      "380    1218\n",
      "606    1115\n",
      "288    1055\n",
      "Name: rating, dtype: int64\n"
     ]
    },
    {
     "data": {
      "image/png": "[encoded data removed]",
      "text/plain": [
       "<Figure size 720x432 with 1 Axes>"
      ]
     },
     "metadata": {
      "needs_background": "light"
     },
     "output_type": "display_data"
    }
   ],
   "source": [
    "# User Engagement\n",
    "user_engagement = full_df.groupby('userId')['rating'].count().sort_values(ascending=False)\n",
    "print(\"User Engagement (Number of Ratings per User):\")\n",
    "print(user_engagement.head(10))\n",
    "\n",
    "# Visualize User Engagement\n",
    "plt.figure(figsize=(10, 6))\n",
    "user_engagement.plot(kind='hist', bins=30, edgecolor='black')\n",
    "plt.title('User Engagement (Number of Ratings per User)')\n",
    "plt.xlabel('Number of Ratings')\n",
    "plt.ylabel('Frequency')\n",
    "plt.show()\n"
   ]
  },
  {
   "cell_type": "markdown",
   "id": "71344cad-c7ba-47de-b620-e61c834b2305",
   "metadata": {},
   "source": [
    "## Interacted vs Not Interacted"
   ]
  },
  {
   "cell_type": "code",
   "execution_count": 13,
   "id": "43a215a4-18fb-4605-a9f3-f0ee19fa2835",
   "metadata": {},
   "outputs": [
    {
     "name": "stdout",
     "output_type": "stream",
     "text": [
      "Number of users who have rated at least one movie: 610\n",
      "Number of users who have not rated any movie: 0\n"
     ]
    }
   ],
   "source": [
    "# Count the number of users who have rated and those who have not rated any movies\n",
    "\n",
    "# Create the user-item matrix\n",
    "user_item_matrix = full_df.pivot(index='userId', columns='movieId', values='rating').fillna(0)\n",
    "\n",
    "# Count the number of users who have rated at least one movie\n",
    "rated_users = (user_item_matrix > 0).sum(axis=1)\n",
    "\n",
    "# Count the number of users who have not rated any movie\n",
    "not_rated_users = (user_item_matrix.sum(axis=1) == 0)\n",
    "\n",
    "# Print the counts\n",
    "print(\"Number of users who have rated at least one movie:\", rated_users[rated_users > 0].shape[0])\n",
    "print(\"Number of users who have not rated any movie:\", not_rated_users.sum())\n"
   ]
  },
  {
   "cell_type": "code",
   "execution_count": null,
   "id": "306618a5-9977-4646-aaa2-4f7b83c4647b",
   "metadata": {},
   "outputs": [],
   "source": []
  }
 ],
 "metadata": {
  "kernelspec": {
   "display_name": "Python 3 (ipykernel)",
   "language": "python",
   "name": "python3"
  },
  "language_info": {
   "codemirror_mode": {
    "name": "ipython",
    "version": 3
   },
   "file_extension": ".py",
   "mimetype": "text/x-python",
   "name": "python",
   "nbconvert_exporter": "python",
   "pygments_lexer": "ipython3",
   "version": "3.9.12"
  }
 },
 "nbformat": 4,
 "nbformat_minor": 5
}
